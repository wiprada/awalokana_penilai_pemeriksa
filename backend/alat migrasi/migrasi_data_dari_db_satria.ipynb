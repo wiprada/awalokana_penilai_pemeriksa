{
 "cells": [
  {
   "cell_type": "code",
   "execution_count": 1,
   "id": "11928024",
   "metadata": {},
   "outputs": [],
   "source": [
    "import pandas as pd\n",
    "import sqlite3"
   ]
  },
  {
   "cell_type": "code",
   "execution_count": 2,
   "id": "fec99cc4",
   "metadata": {},
   "outputs": [],
   "source": [
    "# connect to backend/databease.db\n",
    "conn = sqlite3.connect('../database.db')\n",
    "c = conn.cursor()"
   ]
  },
  {
   "cell_type": "code",
   "execution_count": 8,
   "id": "de3f9b00",
   "metadata": {},
   "outputs": [
    {
     "data": {
      "text/plain": [
       "Index(['id', 'username', 'password', 'role', 'nama', 'nip', 'email',\n",
       "       'fotolink', 'grup'],\n",
       "      dtype='object')"
      ]
     },
     "execution_count": 8,
     "metadata": {},
     "output_type": "execute_result"
    }
   ],
   "source": [
    "# baca excel .venv/db_peg.xlsx\n",
    "df_user = pd.read_excel('../db_peg.xlsx', sheet_name='users', dtype=str)\n",
    "df_user.columns "
   ]
  },
  {
   "cell_type": "code",
   "execution_count": 9,
   "id": "2c2b2baa",
   "metadata": {},
   "outputs": [
    {
     "data": {
      "text/html": [
       "<div>\n",
       "<style scoped>\n",
       "    .dataframe tbody tr th:only-of-type {\n",
       "        vertical-align: middle;\n",
       "    }\n",
       "\n",
       "    .dataframe tbody tr th {\n",
       "        vertical-align: top;\n",
       "    }\n",
       "\n",
       "    .dataframe thead th {\n",
       "        text-align: right;\n",
       "    }\n",
       "</style>\n",
       "<table border=\"1\" class=\"dataframe\">\n",
       "  <thead>\n",
       "    <tr style=\"text-align: right;\">\n",
       "      <th></th>\n",
       "      <th>id</th>\n",
       "      <th>username</th>\n",
       "      <th>password</th>\n",
       "      <th>role</th>\n",
       "      <th>nama</th>\n",
       "      <th>nip</th>\n",
       "      <th>email</th>\n",
       "      <th>fotolink</th>\n",
       "      <th>grup</th>\n",
       "    </tr>\n",
       "  </thead>\n",
       "  <tbody>\n",
       "    <tr>\n",
       "      <th>0</th>\n",
       "      <td>240002315</td>\n",
       "      <td>ib.wisnu@bpk.go.id</td>\n",
       "      <td>ib.wisnu@bpk.go.id</td>\n",
       "      <td>Fungsional Pemeriksa</td>\n",
       "      <td>Ida Bagus Ketut Wisnu</td>\n",
       "      <td>196711291994031002</td>\n",
       "      <td>ib.wisnu@bpk.go.id</td>\n",
       "      <td>https://sisdm.bpk.go.id/photo/240002315/md.jpg</td>\n",
       "      <td>Bidang Pemeriksaan Bali I</td>\n",
       "    </tr>\n",
       "    <tr>\n",
       "      <th>1</th>\n",
       "      <td>240002924</td>\n",
       "      <td>ida.sudiartha@bpk.go.id</td>\n",
       "      <td>ida.sudiartha@bpk.go.id</td>\n",
       "      <td>Fungsional Pemeriksa</td>\n",
       "      <td>Ida Bagus Made Sudiartha</td>\n",
       "      <td>196709281998031001</td>\n",
       "      <td>ida.sudiartha@bpk.go.id</td>\n",
       "      <td>https://sisdm.bpk.go.id/photo/240002924/md.jpg</td>\n",
       "      <td>Bidang Pemeriksaan Bali I</td>\n",
       "    </tr>\n",
       "    <tr>\n",
       "      <th>2</th>\n",
       "      <td>240002921</td>\n",
       "      <td>luh.parwati@bpk.go.id</td>\n",
       "      <td>luh.parwati@bpk.go.id</td>\n",
       "      <td>Fungsional Pemeriksa</td>\n",
       "      <td>Luh Made Putri Parwati</td>\n",
       "      <td>197503121998032001</td>\n",
       "      <td>luh.parwati@bpk.go.id</td>\n",
       "      <td>https://sisdm.bpk.go.id/photo/240002921/md.jpg</td>\n",
       "      <td>Bidang Pemeriksaan Bali I</td>\n",
       "    </tr>\n",
       "    <tr>\n",
       "      <th>3</th>\n",
       "      <td>240003436</td>\n",
       "      <td>iik.jayani@bpk.go.id</td>\n",
       "      <td>iik.jayani@bpk.go.id</td>\n",
       "      <td>Fungsional Pemeriksa</td>\n",
       "      <td>Desak Made Iik Jayani</td>\n",
       "      <td>197309052000032002</td>\n",
       "      <td>iik.jayani@bpk.go.id</td>\n",
       "      <td>https://sisdm.bpk.go.id/photo/240003436/md.jpg</td>\n",
       "      <td>Bidang Pemeriksaan Bali I</td>\n",
       "    </tr>\n",
       "    <tr>\n",
       "      <th>4</th>\n",
       "      <td>240002684</td>\n",
       "      <td>astiti.dewi@bpk.go.id</td>\n",
       "      <td>astiti.dewi@bpk.go.id</td>\n",
       "      <td>Fungsional Pemeriksa</td>\n",
       "      <td>Anak Agung Astiti Dewi</td>\n",
       "      <td>197110181997032001</td>\n",
       "      <td>astiti.dewi@bpk.go.id</td>\n",
       "      <td>https://sisdm.bpk.go.id/photo/240002684/md.jpg</td>\n",
       "      <td>Bidang Pemeriksaan Bali I</td>\n",
       "    </tr>\n",
       "  </tbody>\n",
       "</table>\n",
       "</div>"
      ],
      "text/plain": [
       "          id                 username                 password  \\\n",
       "0  240002315       ib.wisnu@bpk.go.id       ib.wisnu@bpk.go.id   \n",
       "1  240002924  ida.sudiartha@bpk.go.id  ida.sudiartha@bpk.go.id   \n",
       "2  240002921    luh.parwati@bpk.go.id    luh.parwati@bpk.go.id   \n",
       "3  240003436     iik.jayani@bpk.go.id     iik.jayani@bpk.go.id   \n",
       "4  240002684    astiti.dewi@bpk.go.id    astiti.dewi@bpk.go.id   \n",
       "\n",
       "                   role                      nama                 nip  \\\n",
       "0  Fungsional Pemeriksa     Ida Bagus Ketut Wisnu  196711291994031002   \n",
       "1  Fungsional Pemeriksa  Ida Bagus Made Sudiartha  196709281998031001   \n",
       "2  Fungsional Pemeriksa    Luh Made Putri Parwati  197503121998032001   \n",
       "3  Fungsional Pemeriksa     Desak Made Iik Jayani  197309052000032002   \n",
       "4  Fungsional Pemeriksa    Anak Agung Astiti Dewi  197110181997032001   \n",
       "\n",
       "                     email                                        fotolink  \\\n",
       "0       ib.wisnu@bpk.go.id  https://sisdm.bpk.go.id/photo/240002315/md.jpg   \n",
       "1  ida.sudiartha@bpk.go.id  https://sisdm.bpk.go.id/photo/240002924/md.jpg   \n",
       "2    luh.parwati@bpk.go.id  https://sisdm.bpk.go.id/photo/240002921/md.jpg   \n",
       "3     iik.jayani@bpk.go.id  https://sisdm.bpk.go.id/photo/240003436/md.jpg   \n",
       "4    astiti.dewi@bpk.go.id  https://sisdm.bpk.go.id/photo/240002684/md.jpg   \n",
       "\n",
       "                        grup  \n",
       "0  Bidang Pemeriksaan Bali I  \n",
       "1  Bidang Pemeriksaan Bali I  \n",
       "2  Bidang Pemeriksaan Bali I  \n",
       "3  Bidang Pemeriksaan Bali I  \n",
       "4  Bidang Pemeriksaan Bali I  "
      ]
     },
     "execution_count": 9,
     "metadata": {},
     "output_type": "execute_result"
    }
   ],
   "source": [
    "df_user.head()"
   ]
  },
  {
   "cell_type": "code",
   "execution_count": 11,
   "id": "d2d53af9",
   "metadata": {},
   "outputs": [],
   "source": [
    "# membuat tabel users di database.db dengan kolom ['id', 'username', 'password', 'role', 'nama', \n",
    "# 'nip', 'email','fotolink', 'grup']\n",
    "\n",
    "c.execute('''CREATE TABLE IF NOT EXISTS users\n",
    "             (id TEXT PRIMARY KEY,\n",
    "              username TEXT,\n",
    "              password TEXT,\n",
    "              role TEXT,\n",
    "              nama TEXT,\n",
    "              nip TEXT,\n",
    "              email TEXT,\n",
    "              fotolink TEXT,\n",
    "              grup TEXT)''')\n",
    "conn.commit()"
   ]
  },
  {
   "cell_type": "code",
   "execution_count": 12,
   "id": "4e974633",
   "metadata": {},
   "outputs": [],
   "source": [
    "# menambahkan data dari df_user ke tabel users dengan password di hash dengan sha256\n",
    "import hashlib\n",
    "for index, row in df_user.iterrows():\n",
    "    password_hashed = hashlib.sha256(row['password'].encode()).hexdigest()\n",
    "    c.execute('''INSERT INTO users (id, username, password, role, nama, nip, email, fotolink, grup)\n",
    "                 VALUES (?, ?, ?, ?, ?, ?, ?, ?, ?)''',\n",
    "              (row['id'], row['username'], password_hashed, row['role'], row['nama'], row['nip'], row['email'], row['fotolink'], row['grup']))\n",
    "conn.commit()\n"
   ]
  },
  {
   "cell_type": "code",
   "execution_count": 13,
   "id": "a320fc0f",
   "metadata": {},
   "outputs": [],
   "source": [
    "# tambahkan data pegawai ke tabel pegawai di database.db\n",
    "for index, row in df_peg.iterrows():\n",
    "    c.execute(\"INSERT OR REPLACE INTO pegawai (id, nama, email, fotolink, jnsjab, jab, unker, subunker, statpeg, aktifpeg) VALUES (?, ?, ?, ?, ?, ?, ?, ?, ?, ?)\", \n",
    "              (row['id'], row['nama'], row['email'], row['fotolink'], row['jnsjab'], row['jab'], row['unker'], row['subunker'], row['statpeg'], row['aktifpeg']))\n",
    "conn.commit()\n"
   ]
  },
  {
   "cell_type": "code",
   "execution_count": 15,
   "id": "6d84a8b4",
   "metadata": {},
   "outputs": [],
   "source": [
    "df_st = pd.read_excel('../../.venv/db_rik.xlsx', sheet_name='st')\n",
    "df_penugasan = pd.read_excel('../../.venv/db_rik.xlsx', sheet_name='tugas')"
   ]
  },
  {
   "cell_type": "code",
   "execution_count": 16,
   "id": "88eb95f5",
   "metadata": {},
   "outputs": [
    {
     "data": {
      "text/plain": [
       "[Index(['id', 'thn', 'entabr', 'tglst', 'awalst', 'akhirst', 'stlink',\n",
       "        'perihalst', 'jnsrik', 'tahaprik'],\n",
       "       dtype='object'),\n",
       " Index(['id', 'idst', 'nama', 'peranabr', 'urutanst'], dtype='object')]"
      ]
     },
     "execution_count": 16,
     "metadata": {},
     "output_type": "execute_result"
    }
   ],
   "source": [
    "[df_st.columns,\n",
    "df_penugasan.columns]"
   ]
  },
  {
   "cell_type": "code",
   "execution_count": 21,
   "id": "40d600fb",
   "metadata": {},
   "outputs": [],
   "source": [
    "c.execute('''CREATE TABLE IF NOT EXISTS st\n",
    "             (id TEXT PRIMARY KEY,\n",
    "              thn INTEGER,\n",
    "              entabr TEXT,\n",
    "              tglst TEXT,\n",
    "              awalst TEXT,\n",
    "              akhirst TEXT,\n",
    "              stlink TEXT,\n",
    "              perihalst TEXT,\n",
    "              jnsrik TEXT,\n",
    "              tahaprik TEXT)''')\n",
    "\n",
    "for index, row in df_st.iterrows():\n",
    "    tglst = row['tglst'].strftime('%Y-%m-%d') if pd.notnull(row['tglst']) else None\n",
    "    awalst = row['awalst'].strftime('%Y-%m-%d') if pd.notnull(row['awalst']) else None\n",
    "    akhirst = row['akhirst'].strftime('%Y-%m-%d') if pd.notnull(row['akhirst']) else None\n",
    "    c.execute(\n",
    "        \"INSERT OR REPLACE INTO st (id, thn, entabr, tglst, awalst, akhirst, stlink, perihalst, jnsrik, tahaprik) VALUES (?, ?, ?, ?, ?, ?, ?, ?, ?, ?)\",\n",
    "        (row['id'], row['thn'], row['entabr'], tglst, awalst, akhirst, row['stlink'], row['perihalst'], row['jnsrik'], row['tahaprik'])\n",
    "    )\n",
    "conn.commit()"
   ]
  },
  {
   "cell_type": "code",
   "execution_count": 22,
   "id": "b80ccbdc",
   "metadata": {},
   "outputs": [],
   "source": [
    "# create tabel penugasan if not exist with colums 'id', 'idst', 'nama', 'peranabr', 'urutanst'\n",
    "c.execute('''CREATE TABLE IF NOT EXISTS penugasan\n",
    "             (id TEXT PRIMARY KEY,\n",
    "              idst TEXT,\n",
    "              nama TEXT,\n",
    "              peranabr TEXT,\n",
    "              urutanst INTEGER)''')\n",
    "\n",
    "for index, row in df_penugasan.iterrows():\n",
    "    c.execute(\n",
    "        \"INSERT OR REPLACE INTO penugasan (id, idst, nama, peranabr, urutanst) VALUES (?, ?, ?, ?, ?)\",\n",
    "        (row['id'], row['idst'], row['nama'], row['peranabr'], row['urutanst'])\n",
    "    )   \n",
    "conn.commit()"
   ]
  }
 ],
 "metadata": {
  "kernelspec": {
   "display_name": ".venv",
   "language": "python",
   "name": "python3"
  },
  "language_info": {
   "codemirror_mode": {
    "name": "ipython",
    "version": 3
   },
   "file_extension": ".py",
   "mimetype": "text/x-python",
   "name": "python",
   "nbconvert_exporter": "python",
   "pygments_lexer": "ipython3",
   "version": "3.13.7"
  }
 },
 "nbformat": 4,
 "nbformat_minor": 5
}
