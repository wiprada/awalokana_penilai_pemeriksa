{
 "cells": [
  {
   "cell_type": "code",
   "execution_count": 1,
   "id": "11928024",
   "metadata": {},
   "outputs": [],
   "source": [
    "import pandas as pd\n",
    "import sqlite3"
   ]
  },
  {
   "cell_type": "code",
   "execution_count": 2,
   "id": "fec99cc4",
   "metadata": {},
   "outputs": [],
   "source": [
    "# connect to backend/databease.db\n",
    "conn = sqlite3.connect('../database.db')\n",
    "c = conn.cursor()"
   ]
  },
  {
   "cell_type": "code",
   "execution_count": 5,
   "id": "de3f9b00",
   "metadata": {},
   "outputs": [
    {
     "data": {
      "text/plain": [
       "Index(['id', 'nama', 'nip', 'email', 'tmplahir', 'tgllahir', 'profillink',\n",
       "       'fotolink', 'angkatan', 'jnsjab', 'jab', 'unker', 'subunker',\n",
       "       'titeldepan', 'titelbelakang', 'statpeg', 'aktifpeg', 'jnskel',\n",
       "       'ponsel', 'latdik', 'tmtbali', 'ttl', 'teamslink', 'walink',\n",
       "       'Unnamed: 24', 'Unnamed: 25', 'Unnamed: 26', 'Unnamed: 27',\n",
       "       'Unnamed: 28', 'Unnamed: 29', 'Unnamed: 30', 'Unnamed: 31',\n",
       "       'Unnamed: 32'],\n",
       "      dtype='object')"
      ]
     },
     "execution_count": 5,
     "metadata": {},
     "output_type": "execute_result"
    }
   ],
   "source": [
    "# baca excel .venv/db_peg.xlsx\n",
    "df_peg = pd.read_excel('../../.venv/db_peg.xlsx', sheet_name='nama')\n",
    "df_peg.columns "
   ]
  },
  {
   "cell_type": "code",
   "execution_count": 11,
   "id": "d3a375e4",
   "metadata": {},
   "outputs": [],
   "source": [
    "df_peg = df_peg.dropna(subset=['id']).reset_index(drop=True)"
   ]
  },
  {
   "cell_type": "code",
   "execution_count": 8,
   "id": "b998ac9d",
   "metadata": {},
   "outputs": [
    {
     "data": {
      "text/plain": [
       "<sqlite3.Cursor at 0x23257a8bd40>"
      ]
     },
     "execution_count": 8,
     "metadata": {},
     "output_type": "execute_result"
    }
   ],
   "source": [
    "# membuat tabel pegawai jika belum ada di database.db dengan kolom id, nama, email, fotolink, jnsjab, jab, unker, subunker, statpeg, aktifpeg dan PRIMARY KEY nya id\n",
    "c.execute('''CREATE TABLE IF NOT EXISTS pegawai\n",
    "             (id TEXT PRIMARY KEY,\n",
    "              nama TEXT,\n",
    "              email TEXT,\n",
    "              fotolink TEXT,\n",
    "              jnsjab TEXT,\n",
    "              jab TEXT,\n",
    "              unker TEXT,\n",
    "              subunker TEXT,\n",
    "              statpeg TEXT,\n",
    "              aktifpeg TEXT)''')\n"
   ]
  },
  {
   "cell_type": "code",
   "execution_count": 13,
   "id": "a320fc0f",
   "metadata": {},
   "outputs": [],
   "source": [
    "# tambahkan data pegawai ke tabel pegawai di database.db\n",
    "for index, row in df_peg.iterrows():\n",
    "    c.execute(\"INSERT OR REPLACE INTO pegawai (id, nama, email, fotolink, jnsjab, jab, unker, subunker, statpeg, aktifpeg) VALUES (?, ?, ?, ?, ?, ?, ?, ?, ?, ?)\", \n",
    "              (row['id'], row['nama'], row['email'], row['fotolink'], row['jnsjab'], row['jab'], row['unker'], row['subunker'], row['statpeg'], row['aktifpeg']))\n",
    "conn.commit()\n"
   ]
  },
  {
   "cell_type": "code",
   "execution_count": 15,
   "id": "6d84a8b4",
   "metadata": {},
   "outputs": [],
   "source": [
    "df_st = pd.read_excel('../../.venv/db_rik.xlsx', sheet_name='st')\n",
    "df_penugasan = pd.read_excel('../../.venv/db_rik.xlsx', sheet_name='tugas')"
   ]
  },
  {
   "cell_type": "code",
   "execution_count": 16,
   "id": "88eb95f5",
   "metadata": {},
   "outputs": [
    {
     "data": {
      "text/plain": [
       "[Index(['id', 'thn', 'entabr', 'tglst', 'awalst', 'akhirst', 'stlink',\n",
       "        'perihalst', 'jnsrik', 'tahaprik'],\n",
       "       dtype='object'),\n",
       " Index(['id', 'idst', 'nama', 'peranabr', 'urutanst'], dtype='object')]"
      ]
     },
     "execution_count": 16,
     "metadata": {},
     "output_type": "execute_result"
    }
   ],
   "source": [
    "[df_st.columns,\n",
    "df_penugasan.columns]"
   ]
  },
  {
   "cell_type": "code",
   "execution_count": 21,
   "id": "40d600fb",
   "metadata": {},
   "outputs": [],
   "source": [
    "c.execute('''CREATE TABLE IF NOT EXISTS st\n",
    "             (id TEXT PRIMARY KEY,\n",
    "              thn INTEGER,\n",
    "              entabr TEXT,\n",
    "              tglst TEXT,\n",
    "              awalst TEXT,\n",
    "              akhirst TEXT,\n",
    "              stlink TEXT,\n",
    "              perihalst TEXT,\n",
    "              jnsrik TEXT,\n",
    "              tahaprik TEXT)''')\n",
    "\n",
    "for index, row in df_st.iterrows():\n",
    "    tglst = row['tglst'].strftime('%Y-%m-%d') if pd.notnull(row['tglst']) else None\n",
    "    awalst = row['awalst'].strftime('%Y-%m-%d') if pd.notnull(row['awalst']) else None\n",
    "    akhirst = row['akhirst'].strftime('%Y-%m-%d') if pd.notnull(row['akhirst']) else None\n",
    "    c.execute(\n",
    "        \"INSERT OR REPLACE INTO st (id, thn, entabr, tglst, awalst, akhirst, stlink, perihalst, jnsrik, tahaprik) VALUES (?, ?, ?, ?, ?, ?, ?, ?, ?, ?)\",\n",
    "        (row['id'], row['thn'], row['entabr'], tglst, awalst, akhirst, row['stlink'], row['perihalst'], row['jnsrik'], row['tahaprik'])\n",
    "    )\n",
    "conn.commit()"
   ]
  },
  {
   "cell_type": "code",
   "execution_count": 22,
   "id": "b80ccbdc",
   "metadata": {},
   "outputs": [],
   "source": [
    "# create tabel penugasan if not exist with colums 'id', 'idst', 'nama', 'peranabr', 'urutanst'\n",
    "c.execute('''CREATE TABLE IF NOT EXISTS penugasan\n",
    "             (id TEXT PRIMARY KEY,\n",
    "              idst TEXT,\n",
    "              nama TEXT,\n",
    "              peranabr TEXT,\n",
    "              urutanst INTEGER)''')\n",
    "\n",
    "for index, row in df_penugasan.iterrows():\n",
    "    c.execute(\n",
    "        \"INSERT OR REPLACE INTO penugasan (id, idst, nama, peranabr, urutanst) VALUES (?, ?, ?, ?, ?)\",\n",
    "        (row['id'], row['idst'], row['nama'], row['peranabr'], row['urutanst'])\n",
    "    )   \n",
    "conn.commit()"
   ]
  }
 ],
 "metadata": {
  "kernelspec": {
   "display_name": ".venv",
   "language": "python",
   "name": "python3"
  },
  "language_info": {
   "codemirror_mode": {
    "name": "ipython",
    "version": 3
   },
   "file_extension": ".py",
   "mimetype": "text/x-python",
   "name": "python",
   "nbconvert_exporter": "python",
   "pygments_lexer": "ipython3",
   "version": "3.13.7"
  }
 },
 "nbformat": 4,
 "nbformat_minor": 5
}
