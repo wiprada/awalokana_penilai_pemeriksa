{
 "cells": [
  {
   "cell_type": "code",
   "execution_count": 1,
   "id": "e205aa6a",
   "metadata": {},
   "outputs": [],
   "source": [
    "import pandas as pd\n",
    "import sqlite3"
   ]
  },
  {
   "cell_type": "code",
   "execution_count": 2,
   "id": "cb9f6c2e",
   "metadata": {},
   "outputs": [],
   "source": [
    "# connect to backend/databease.db\n",
    "conn = sqlite3.connect('../database.db')\n",
    "c = conn.cursor()"
   ]
  },
  {
   "cell_type": "code",
   "execution_count": 3,
   "id": "3f0e2884",
   "metadata": {},
   "outputs": [
    {
     "name": "stdout",
     "output_type": "stream",
     "text": [
      "              name\n",
      "0            items\n",
      "1  sqlite_sequence\n",
      "2            users\n"
     ]
    }
   ],
   "source": [
    "# list all tables from connection\n",
    "tables = pd.read_sql(\"SELECT name FROM sqlite_master WHERE type='table';\", conn)\n",
    "print(tables)"
   ]
  },
  {
   "cell_type": "code",
   "execution_count": 4,
   "id": "3a3281a4",
   "metadata": {},
   "outputs": [],
   "source": [
    "# drop table items and users if exists from connection\n",
    "c.execute(\"DROP TABLE IF EXISTS items;\")\n",
    "c.execute(\"DROP TABLE IF EXISTS users;\")\n",
    "conn.commit()\n",
    "# close connection\n",
    "conn.close()\n"
   ]
  }
 ],
 "metadata": {
  "kernelspec": {
   "display_name": ".venv",
   "language": "python",
   "name": "python3"
  },
  "language_info": {
   "codemirror_mode": {
    "name": "ipython",
    "version": 3
   },
   "file_extension": ".py",
   "mimetype": "text/x-python",
   "name": "python",
   "nbconvert_exporter": "python",
   "pygments_lexer": "ipython3",
   "version": "3.13.7"
  }
 },
 "nbformat": 4,
 "nbformat_minor": 5
}
